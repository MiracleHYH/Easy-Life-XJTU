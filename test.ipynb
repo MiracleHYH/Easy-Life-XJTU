{
 "cells": [
  {
   "cell_type": "code",
   "execution_count": 49,
   "metadata": {},
   "outputs": [],
   "source": [
    "import requests"
   ]
  },
  {
   "cell_type": "code",
   "execution_count": 54,
   "metadata": {},
   "outputs": [
    {
     "name": "stdout",
     "output_type": "stream",
     "text": [
      "-----------------------------------\n",
      "URL:http://rg.lib.xjtu.edu.cn:8086\n",
      "Cookies: dict_keys(['session'])\n",
      "redirect to [http://rg.lib.xjtu.edu.cn:8086/auth/login/?next=%2F]\n",
      "-----------------------------------\n",
      "URL:http://rg.lib.xjtu.edu.cn:8086/auth/login/?next=%2F\n",
      "Cookies: dict_keys(['session'])\n",
      "redirect to [http://org.xjtu.edu.cn/openplatform/oauth/authorize?appId=1331&redirectUri=http://rg.lib.xjtu.edu.cn:8086/auth/login/&responseType=code&scope=user_info&state=8888]\n",
      "-----------------------------------\n",
      "URL:http://org.xjtu.edu.cn/openplatform/oauth/authorize?appId=1331&redirectUri=http://rg.lib.xjtu.edu.cn:8086/auth/login/&responseType=code&scope=user_info&state=8888\n",
      "Cookies: dict_keys(['cur_appId_', 'state', 'route'])\n",
      "redirect to [http://org.xjtu.edu.cn/openplatform/login.html]\n",
      "-----------------------------------\n",
      "URL:http://org.xjtu.edu.cn/openplatform/login.html\n",
      "Cookies: dict_keys([])\n"
     ]
    }
   ],
   "source": [
    "url = \"http://rg.lib.xjtu.edu.cn:8086\"\n",
    "ck = dict()\n",
    "while True:\n",
    "    r = requests.get(url, allow_redirects=False, cookies=ck)\n",
    "    ck = r.cookies.get_dict()\n",
    "    print(\"-----------------------------------\")\n",
    "    print(\"URL:%s\" % url)\n",
    "    print(\"Cookies:\", ck.keys())\n",
    "    if r.status_code == 302:\n",
    "        url = r.headers.get('Location')\n",
    "        print('redirect to [%s]' % url)\n",
    "    else:\n",
    "        break"
   ]
  },
  {
   "cell_type": "code",
   "execution_count": 63,
   "metadata": {},
   "outputs": [
    {
     "name": "stdout",
     "output_type": "stream",
     "text": [
      "-----------------------------------\n",
      "{'User-Agent': 'Mozilla/5.0 (Windows NT 10.0; Win64; x64) AppleWebKit/537.36 (KHTML, like Gecko) Chrome/104.0.0.0 Safari/537.36', 'Accept-Encoding': 'gzip, deflate', 'Accept': '*/*', 'Connection': 'keep-alive', 'Content-Type': 'application/json; charset=UTF-8'}\n",
      "[('session', 'eyJfZmxhc2hlcyI6W3siIHQiOlt7IiBiIjoiYldWemMyRm5aUT09In0sIlBsZWFzZSBsb2cgaW4gdG8gYWNjZXNzIHRoaXMgcGFnZS4iXX1dfQ.Fexcjg._hb85cNRgoKs8ginseBm8Ex9ZX8')]\n",
      "redirect to [http://rg.lib.xjtu.edu.cn:8086/auth/login/?next=%2F]\n",
      "-----------------------------------\n",
      "{'User-Agent': 'Mozilla/5.0 (Windows NT 10.0; Win64; x64) AppleWebKit/537.36 (KHTML, like Gecko) Chrome/104.0.0.0 Safari/537.36', 'Accept-Encoding': 'gzip, deflate', 'Accept': '*/*', 'Connection': 'keep-alive', 'Content-Type': 'application/json; charset=UTF-8', 'Cookie': 'session=eyJfZmxhc2hlcyI6W3siIHQiOlt7IiBiIjoiYldWemMyRm5aUT09In0sIlBsZWFzZSBsb2cgaW4gdG8gYWNjZXNzIHRoaXMgcGFnZS4iXX1dfQ.Fexcjg._hb85cNRgoKs8ginseBm8Ex9ZX8'}\n",
      "[('session', '.eJwtjcsKgzAQAH9l2bOUIvQieBD6oAfT2oOSlCIxxGfU0g0oEf-9SHuayzCzYF4aSbUmDJ4Lgv2hwACLLHXKPw8iCUNcPbwbLUmDGStoBrAjSKU0Edi6IXjLSu_wtb48VPQpczt2esDgn2JtdIh7PokL62KfzzxLZpGlJm7r7na8TsxFjvePhrtkv3nMnSZRbdv1C5pENcQ.Fexcjg.9y-R_0QNefKYK2zQVE8jxMt6PLU')]\n",
      "redirect to [http://org.xjtu.edu.cn/openplatform/oauth/authorize?appId=1331&redirectUri=http://rg.lib.xjtu.edu.cn:8086/auth/login/&responseType=code&scope=user_info&state=8888]\n",
      "-----------------------------------\n",
      "{'User-Agent': 'Mozilla/5.0 (Windows NT 10.0; Win64; x64) AppleWebKit/537.36 (KHTML, like Gecko) Chrome/104.0.0.0 Safari/537.36', 'Accept-Encoding': 'gzip, deflate', 'Accept': '*/*', 'Connection': 'keep-alive', 'Content-Type': 'application/json; charset=UTF-8'}\n",
      "[('cur_appId_', 'JL4oKidbLpQ='), ('state', 'xjdCas'), ('route', '7ee49a7421c3f563a7b57a532bfd53bb')]\n",
      "redirect to [http://org.xjtu.edu.cn/openplatform/login.html]\n",
      "-----------------------------------\n",
      "{'User-Agent': 'Mozilla/5.0 (Windows NT 10.0; Win64; x64) AppleWebKit/537.36 (KHTML, like Gecko) Chrome/104.0.0.0 Safari/537.36', 'Accept-Encoding': 'gzip, deflate', 'Accept': '*/*', 'Connection': 'keep-alive', 'Content-Type': 'application/json; charset=UTF-8', 'Cookie': 'cur_appId_=JL4oKidbLpQ=; state=xjdCas; route=7ee49a7421c3f563a7b57a532bfd53bb'}\n",
      "[]\n"
     ]
    }
   ],
   "source": [
    "headers = {\n",
    "    \"User-Agent\": \"Mozilla/5.0 (Windows NT 10.0; Win64; x64) AppleWebKit/537.36 (KHTML, like Gecko) Chrome/104.0.0.0 Safari/537.36\",\n",
    "    \"Content-Type\": \"application/json; charset=UTF-8\",\n",
    "}\n",
    "s = requests.Session()\n",
    "\n",
    "url = \"http://rg.lib.xjtu.edu.cn:8086\"\n",
    "ck = dict()\n",
    "while True:\n",
    "    res = s.get(url, headers=headers, allow_redirects=False)\n",
    "    print(\"-----------------------------------\")\n",
    "    print(res.request.headers)\n",
    "    print(res.cookies.items())\n",
    "    if res.status_code == 302:\n",
    "        url = res.headers.get('Location')\n",
    "        print('redirect to [%s]' % url)\n",
    "    else:\n",
    "        break"
   ]
  },
  {
   "cell_type": "code",
   "execution_count": null,
   "metadata": {},
   "outputs": [],
   "source": [
    "res = s.get(\"\")"
   ]
  }
 ],
 "metadata": {
  "kernelspec": {
   "display_name": "Python 3.9.0 ('Easy-Life-XJTU')",
   "language": "python",
   "name": "python3"
  },
  "language_info": {
   "codemirror_mode": {
    "name": "ipython",
    "version": 3
   },
   "file_extension": ".py",
   "mimetype": "text/x-python",
   "name": "python",
   "nbconvert_exporter": "python",
   "pygments_lexer": "ipython3",
   "version": "3.9.0"
  },
  "orig_nbformat": 4,
  "vscode": {
   "interpreter": {
    "hash": "2db7d2f0b51f53fdf262e8e6d9afc68a236495c941fbb1d059b87f50511e4dc6"
   }
  }
 },
 "nbformat": 4,
 "nbformat_minor": 2
}
